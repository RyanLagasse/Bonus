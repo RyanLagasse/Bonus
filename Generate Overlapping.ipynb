{
 "cells": [
  {
   "cell_type": "code",
   "execution_count": null,
   "metadata": {},
   "outputs": [],
   "source": [
    "from PIL import Image\n",
    "import numpy as np\n",
    "\n",
    "def create_image_grid(input_image_path, grid_size, overlap_ratio=0.5):\n",
    "    \"\"\"\n",
    "    Create a grid of overlapping images from an input image.\n",
    "\n",
    "    Args:\n",
    "        input_image_path (str): Path to the input image.\n",
    "        grid_size (int): Number of images in the grid horizontally and vertically.\n",
    "        overlap_ratio (float): Ratio of overlap between adjacent images (between 0 and 1).\n",
    "\n",
    "    Returns:\n",
    "        list: A list of PIL Image objects representing the overlapping image grid.\n",
    "    \"\"\"\n",
    "    # Load the input image\n",
    "    input_image = Image.open(input_image_path)\n",
    "    width, height = input_image.size\n",
    "\n",
    "    # Calculate the size of each grid image\n",
    "    grid_image_width = width // grid_size\n",
    "    grid_image_height = height // grid_size\n",
    "\n",
    "    # Calculate the overlap size\n",
    "    overlap_width = int(grid_image_width * overlap_ratio)\n",
    "    overlap_height = int(grid_image_height * overlap_ratio)\n",
    "\n",
    "    # Create a list to store the grid images\n",
    "    grid_images = []\n",
    "\n",
    "    # Iterate over the grid and extract overlapping images\n",
    "    for row in range(grid_size):\n",
    "        for col in range(grid_size):\n",
    "            left = col * grid_image_width - overlap_width\n",
    "            right = left + grid_image_width + overlap_width\n",
    "            top = row * grid_image_height - overlap_height\n",
    "            bottom = top + grid_image_height + overlap_height\n",
    "\n",
    "            # Crop the input image to get the grid image\n",
    "            grid_image = input_image.crop((left, top, right, bottom))\n",
    "            grid_images.append(grid_image)\n",
    "\n",
    "    return grid_images\n",
    "\n",
    "# Example usage\n",
    "input_image_path = \"data/left.jpg\"\n",
    "grid_size = 3\n",
    "overlap_ratio = 0.3\n",
    "\n",
    "grid_images = create_image_grid(input_image_path, grid_size, overlap_ratio)\n",
    "\n",
    "# Save the grid images\n",
    "for i, image in enumerate(grid_images):\n",
    "    image.save(f\"outputs/grid_image_{i}.jpg\")"
   ]
  }
 ],
 "metadata": {
  "kernelspec": {
   "display_name": "LFA",
   "language": "python",
   "name": "python3"
  },
  "language_info": {
   "name": "python",
   "version": "3.11.9"
  }
 },
 "nbformat": 4,
 "nbformat_minor": 2
}
