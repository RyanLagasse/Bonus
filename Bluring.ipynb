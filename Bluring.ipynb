{
 "cells": [
  {
   "cell_type": "code",
   "execution_count": 1,
   "metadata": {},
   "outputs": [],
   "source": [
    "import cv2 as cv\n",
    "import numpy as np"
   ]
  },
  {
   "cell_type": "code",
   "execution_count": 2,
   "metadata": {},
   "outputs": [],
   "source": [
    "def blend_images(image1, image2):\n",
    "    print(image1.shape)\n",
    "    print(image2.shape)\n",
    "    image1_image2 = np.hstack((image1, image2))\n",
    "\n",
    "    # generate Gaussian pyramid for image1\n",
    "    image1_copy = image1.copy()\n",
    "    gp_image1 = [image1_copy]\n",
    "    for i in range(6):\n",
    "        image1_copy = cv.pyrDown(image1_copy)\n",
    "        gp_image1.append(image1_copy)\n",
    "\n",
    "\n",
    "    # generate Gaussian pyramid for image2\n",
    "    image2_copy = image2.copy()\n",
    "    gp_image2 = [image2_copy]\n",
    "    for i in range(6):\n",
    "        image2_copy = cv.pyrDown(image2_copy)\n",
    "        gp_image2.append(image2_copy)\n",
    "\n",
    "    # generate Laplacian Pyramid for image1\n",
    "    image1_copy = gp_image1[5]\n",
    "    lp_image1 = [image1_copy]\n",
    "    for i in range(5, 0, -1):\n",
    "        gaussian_expanded = cv.pyrUp(gp_image1[i])\n",
    "        laplacian = cv.subtract(gp_image1[i-1], gaussian_expanded)\n",
    "        lp_image1.append(laplacian)\n",
    "\n",
    "    # generate Laplacian Pyramid for image2\n",
    "    image2_copy = gp_image2[5]\n",
    "    lp_image2 = [image2_copy]\n",
    "    for i in range(5, 0, -1):\n",
    "        gaussian_expanded = cv.pyrUp(gp_image2[i])\n",
    "        laplacian = cv.subtract(gp_image2[i-1], gaussian_expanded)\n",
    "        lp_image2.append(laplacian)\n",
    "\n",
    "    # Now add left and right halves of images in each level\n",
    "    image1_image2_pyramid = []\n",
    "    n = 0\n",
    "    for image1_lap, image2_lap in zip(lp_image1, lp_image2):\n",
    "        n += 1\n",
    "        cols, rows, ch = image1_lap.shape\n",
    "        laplacian = np.hstack((image1_lap[:, 0:int(cols/2)], image2_lap[:, int(cols/2):]))\n",
    "        image1_image2_pyramid.append(laplacian)\n",
    "    # now reconstruct\n",
    "    image1_image2_reconstruct = image1_image2_pyramid[0]\n",
    "    for i in range(1, 6):\n",
    "        image1_image2_reconstruct = cv.pyrUp(image1_image2_reconstruct)\n",
    "        image1_image2_reconstruct = cv.add(image1_image2_pyramid[i], image1_image2_reconstruct)\n",
    "\n",
    "    return image1_image2_reconstruct"
   ]
  },
  {
   "cell_type": "code",
   "execution_count": null,
   "metadata": {},
   "outputs": [],
   "source": []
  }
 ],
 "metadata": {
  "kernelspec": {
   "display_name": "base",
   "language": "python",
   "name": "python3"
  },
  "language_info": {
   "codemirror_mode": {
    "name": "ipython",
    "version": 3
   },
   "file_extension": ".py",
   "mimetype": "text/x-python",
   "name": "python",
   "nbconvert_exporter": "python",
   "pygments_lexer": "ipython3",
   "version": "3.11.5"
  }
 },
 "nbformat": 4,
 "nbformat_minor": 2
}
